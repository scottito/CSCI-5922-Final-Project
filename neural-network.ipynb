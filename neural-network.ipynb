{
 "cells": [
  {
   "cell_type": "markdown",
   "id": "feb5b5e1",
   "metadata": {},
   "source": [
    "# Neural Network Using All Available Data"
   ]
  },
  {
   "cell_type": "code",
   "execution_count": 2,
   "id": "048637a7",
   "metadata": {},
   "outputs": [],
   "source": [
    "import pandas as pd"
   ]
  },
  {
   "cell_type": "code",
   "execution_count": 3,
   "id": "398caea3",
   "metadata": {},
   "outputs": [],
   "source": [
    "train = pd.read_csv('data/training/train_processed.csv')"
   ]
  },
  {
   "cell_type": "code",
   "execution_count": null,
   "id": "c29d81c7",
   "metadata": {},
   "outputs": [],
   "source": []
  }
 ],
 "metadata": {
  "kernelspec": {
   "display_name": "Python 3",
   "language": "python",
   "name": "python3"
  },
  "language_info": {
   "codemirror_mode": {
    "name": "ipython",
    "version": 3
   },
   "file_extension": ".py",
   "mimetype": "text/x-python",
   "name": "python",
   "nbconvert_exporter": "python",
   "pygments_lexer": "ipython3",
   "version": "3.9.13"
  }
 },
 "nbformat": 4,
 "nbformat_minor": 5
}
