{
 "cells": [
  {
   "cell_type": "markdown",
   "id": "feb5b5e1",
   "metadata": {},
   "source": [
    "# Neural Network Using All Available Data"
   ]
  },
  {
   "cell_type": "code",
   "execution_count": 6,
   "id": "048637a7",
   "metadata": {},
   "outputs": [],
   "source": [
    "import pandas as pd\n",
    "from sklearn.model_selection import train_test_split"
   ]
  },
  {
   "cell_type": "code",
   "execution_count": 5,
   "id": "398caea3",
   "metadata": {},
   "outputs": [],
   "source": [
    "data = pd.read_csv('data/processed_data.csv')"
   ]
  },
  {
   "cell_type": "code",
   "execution_count": 7,
   "id": "c29d81c7",
   "metadata": {},
   "outputs": [
    {
     "name": "stdout",
     "output_type": "stream",
     "text": [
      "Original: (28800, 61)\n",
      "Training: (20165, 61) (70.0%)\n",
      "Validation: (5755, 61) (20.0%)\n",
      "Testing: (2880, 61) (10.0%)\n"
     ]
    }
   ],
   "source": [
    "# First split: 90% train+val, 10% test\n",
    "train_val, test = train_test_split(data, test_size=0.1, random_state=42)\n",
    "\n",
    "# Second split: 70% train, 20% val (from the original dataset)\n",
    "# 70/90 = 0.778 (train should be 77.8% of the train_val set)\n",
    "train, val = train_test_split(train_val, test_size=0.222, random_state=42)\n",
    "\n",
    "# Verify the shapes\n",
    "print(f\"Original: {data.shape}\")\n",
    "print(f\"Training: {train.shape} ({len(train)/len(data):.1%})\")\n",
    "print(f\"Validation: {val.shape} ({len(val)/len(data):.1%})\")\n",
    "print(f\"Testing: {test.shape} ({len(test)/len(data):.1%})\")"
   ]
  },
  {
   "cell_type": "code",
   "execution_count": null,
   "id": "8735cde6",
   "metadata": {},
   "outputs": [],
   "source": []
  }
 ],
 "metadata": {
  "kernelspec": {
   "display_name": "Python 3",
   "language": "python",
   "name": "python3"
  },
  "language_info": {
   "codemirror_mode": {
    "name": "ipython",
    "version": 3
   },
   "file_extension": ".py",
   "mimetype": "text/x-python",
   "name": "python",
   "nbconvert_exporter": "python",
   "pygments_lexer": "ipython3",
   "version": "3.9.13"
  }
 },
 "nbformat": 4,
 "nbformat_minor": 5
}
