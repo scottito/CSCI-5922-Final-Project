{
 "cells": [
  {
   "cell_type": "markdown",
   "id": "feb5b5e1",
   "metadata": {},
   "source": [
    "# Initial notebook (there will be many more I expect)"
   ]
  },
  {
   "cell_type": "markdown",
   "id": "a6aef242",
   "metadata": {},
   "source": []
  }
 ],
 "metadata": {
  "language_info": {
   "name": "python"
  }
 },
 "nbformat": 4,
 "nbformat_minor": 5
}
