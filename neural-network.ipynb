{
 "cells": [
  {
   "cell_type": "markdown",
   "id": "feb5b5e1",
   "metadata": {},
   "source": [
    "# Neural Network Using All Available Data"
   ]
  },
  {
   "cell_type": "markdown",
   "id": "5b4c2728",
   "metadata": {},
   "source": [
    "## Imports"
   ]
  },
  {
   "cell_type": "code",
   "execution_count": 41,
   "id": "048637a7",
   "metadata": {},
   "outputs": [],
   "source": [
    "import pandas as pd\n",
    "import numpy as np\n",
    "import torch\n",
    "import torch.nn as nn\n",
    "import torch.optim as optim\n",
    "from torch.utils.data import DataLoader, TensorDataset\n",
    "from sklearn.preprocessing import StandardScaler\n",
    "from sklearn.model_selection import train_test_split\n",
    "import matplotlib.pyplot as plt"
   ]
  },
  {
   "cell_type": "markdown",
   "id": "17dac73d",
   "metadata": {},
   "source": [
    "## Preprocess"
   ]
  },
  {
   "cell_type": "code",
   "execution_count": 25,
   "id": "398caea3",
   "metadata": {},
   "outputs": [],
   "source": [
    "data = pd.read_csv('data/clean_data.csv')"
   ]
  },
  {
   "cell_type": "code",
   "execution_count": null,
   "id": "9639d79b",
   "metadata": {},
   "outputs": [
    {
     "name": "stdout",
     "output_type": "stream",
     "text": [
      "Original: 28800\n",
      "Training: 20160 (70.0%)\n",
      "Validation: 5760 (20.0%)\n",
      "Testing: 2880 (10.0%)\n"
     ]
    }
   ],
   "source": [
    "# Store IDs separately\n",
    "ids = data['ID'].values\n",
    "\n",
    "# Remove ID and target (efs/efs_time) from features\n",
    "X = data.drop(['ID', 'efs', 'efs_time'], axis=1)\n",
    "y = data['efs'].values\n",
    "\n",
    "# Split data into train, validation, and test sets\n",
    "# First split: separate test set (10%)\n",
    "X_temp, X_test, y_temp, y_test, ids_temp, ids_test = train_test_split(\n",
    "    X, y, ids, test_size=0.1, random_state=42\n",
    ")\n",
    "\n",
    "# Second split: get validation set from remaining data (20%)\n",
    "val_size_adjusted = 0.2 / (1 - 0.1)\n",
    "X_train, X_val, y_train, y_val, ids_train, ids_val = train_test_split(\n",
    "    X_temp, y_temp, ids_temp, test_size=val_size_adjusted, random_state=42\n",
    ")\n",
    "\n",
    "print(f\"Original: {data.shape[0]}\")\n",
    "print(f\"Training: {X_train.shape[0]} ({len(X_train)/len(data):.1%})\")\n",
    "print(f\"Validation: {X_val.shape[0]} ({len(X_val)/len(data):.1%})\")\n",
    "print(f\"Testing: {X_test.shape[0]} ({len(X_test)/len(data):.1%})\")"
   ]
  },
  {
   "cell_type": "code",
   "execution_count": 26,
   "id": "dcef3036",
   "metadata": {},
   "outputs": [
    {
     "data": {
      "text/plain": [
       "torch.Size([20160, 58])"
      ]
     },
     "execution_count": 26,
     "metadata": {},
     "output_type": "execute_result"
    }
   ],
   "source": [
    "# Standardize features (For fitting into tensor)\n",
    "scaler = StandardScaler()\n",
    "X_train = scaler.fit_transform(X_train)\n",
    "X_val = scaler.transform(X_val)\n",
    "X_test = scaler.transform(X_test)\n",
    "\n",
    "# Convert to PyTorch tensors\n",
    "X_train_tensor = torch.FloatTensor(X_train)\n",
    "y_train_tensor = torch.FloatTensor(y_train).unsqueeze(1)\n",
    "X_val_tensor = torch.FloatTensor(X_val)\n",
    "y_val_tensor = torch.FloatTensor(y_val).unsqueeze(1)\n",
    "X_test_tensor = torch.FloatTensor(X_test)\n",
    "\n",
    "X_train_tensor.shape"
   ]
  },
  {
   "cell_type": "markdown",
   "id": "9efa0dec",
   "metadata": {},
   "source": [
    "## Simple Model"
   ]
  },
  {
   "cell_type": "code",
   "execution_count": 18,
   "id": "8735cde6",
   "metadata": {},
   "outputs": [],
   "source": [
    "# Define a simple neural network with fully connected layers\n",
    "class SimpleEFSModel(nn.Module):\n",
    "    def __init__(self, input_size):\n",
    "        super(SimpleEFSModel, self).__init__()\n",
    "        self.fc1 = nn.Linear(input_size, 128)\n",
    "        self.fc2 = nn.Linear(128, 64)\n",
    "        self.fc3 = nn.Linear(64, 1)\n",
    "        self.relu = nn.ReLU()\n",
    "        self.dropout = nn.Dropout(0.2)\n",
    "        self.sigmoid = nn.Sigmoid()\n",
    "        \n",
    "    def forward(self, x):\n",
    "        x = self.relu(self.fc1(x))\n",
    "        x = self.dropout(x)\n",
    "        x = self.relu(self.fc2(x))\n",
    "        x = self.dropout(x)\n",
    "        x = self.sigmoid(self.fc3(x))\n",
    "        return x"
   ]
  },
  {
   "cell_type": "markdown",
   "id": "10298418",
   "metadata": {},
   "source": [
    "## Train Model"
   ]
  },
  {
   "cell_type": "code",
   "execution_count": 35,
   "id": "4c6a5bc8",
   "metadata": {},
   "outputs": [],
   "source": [
    "# Create data loaders\n",
    "train_dataset = TensorDataset(X_train_tensor, y_train_tensor)\n",
    "val_dataset = TensorDataset(X_val_tensor, y_val_tensor)\n",
    "\n",
    "train_loader = DataLoader(train_dataset, batch_size=64, shuffle=True)\n",
    "val_loader = DataLoader(val_dataset, batch_size=64)"
   ]
  },
  {
   "cell_type": "markdown",
   "id": "f2f80042",
   "metadata": {},
   "source": [
    "The training and validation done below are a proof-of-concept for a simple binary classification model predicting EFS"
   ]
  },
  {
   "cell_type": "code",
   "execution_count": 44,
   "id": "97a11371",
   "metadata": {},
   "outputs": [],
   "source": [
    " # Initialize model\n",
    "input_size = X_train.shape[1]\n",
    "model = SimpleEFSModel(input_size)\n",
    "\n",
    "# Define hyper-parameters\n",
    "criterion = nn.BCELoss()\n",
    "optimizer = optim.Adam(model.parameters(), lr=0.001)\n",
    "epochs = 20"
   ]
  },
  {
   "cell_type": "code",
   "execution_count": 45,
   "id": "012fdc61",
   "metadata": {},
   "outputs": [
    {
     "name": "stdout",
     "output_type": "stream",
     "text": [
      "Epoch 1/20, Train Loss: 0.2337, Val Loss: 0.0624\n",
      "Epoch 2/20, Train Loss: 0.0705, Val Loss: 0.0537\n",
      "Epoch 3/20, Train Loss: 0.0539, Val Loss: 0.0475\n",
      "Epoch 4/20, Train Loss: 0.0467, Val Loss: 0.0501\n",
      "Epoch 5/20, Train Loss: 0.0433, Val Loss: 0.0438\n",
      "Epoch 6/20, Train Loss: 0.0366, Val Loss: 0.0458\n",
      "Epoch 7/20, Train Loss: 0.0345, Val Loss: 0.0445\n",
      "Epoch 8/20, Train Loss: 0.0338, Val Loss: 0.0470\n",
      "Epoch 9/20, Train Loss: 0.0344, Val Loss: 0.0466\n",
      "Epoch 10/20, Train Loss: 0.0306, Val Loss: 0.0468\n",
      "Epoch 11/20, Train Loss: 0.0287, Val Loss: 0.0518\n",
      "Epoch 12/20, Train Loss: 0.0282, Val Loss: 0.0447\n",
      "Epoch 13/20, Train Loss: 0.0261, Val Loss: 0.0488\n",
      "Epoch 14/20, Train Loss: 0.0263, Val Loss: 0.0455\n",
      "Epoch 15/20, Train Loss: 0.0250, Val Loss: 0.0465\n",
      "Epoch 16/20, Train Loss: 0.0243, Val Loss: 0.0488\n",
      "Epoch 17/20, Train Loss: 0.0230, Val Loss: 0.0470\n",
      "Epoch 18/20, Train Loss: 0.0204, Val Loss: 0.0569\n",
      "Epoch 19/20, Train Loss: 0.0209, Val Loss: 0.0502\n",
      "Epoch 20/20, Train Loss: 0.0203, Val Loss: 0.0502\n"
     ]
    },
    {
     "data": {
      "image/png": "[encoded data removed]",
      "text/plain": [
       "<Figure size 640x480 with 1 Axes>"
      ]
     },
     "metadata": {},
     "output_type": "display_data"
    }
   ],
   "source": [
    "# Training loop\n",
    "train_losses = []\n",
    "val_losses = []\n",
    "\n",
    "for epoch in range(epochs):\n",
    "\n",
    "    model.train()\n",
    "    train_loss = 0.0\n",
    "    for inputs, labels in train_loader:\n",
    "        optimizer.zero_grad()\n",
    "        outputs = model(inputs)\n",
    "        loss = criterion(outputs, labels)\n",
    "        loss.backward()\n",
    "        optimizer.step()\n",
    "        train_loss += loss.item()\n",
    "    train_losses.append(train_loss)\n",
    "\n",
    "    # Validation\n",
    "    model.eval()\n",
    "    val_loss = 0.0\n",
    "    with torch.no_grad():\n",
    "        for inputs, labels in val_loader:\n",
    "            outputs = model(inputs)\n",
    "            loss = criterion(outputs, labels)\n",
    "            val_loss += loss.item()\n",
    "    val_losses.append(val_loss)\n",
    "    \n",
    "    # Display epoch losses\n",
    "    print(f'Epoch {epoch+1}/{epochs}, Train Loss: {train_loss/len(train_loader):.4f}, Val Loss: {val_loss/len(val_loader):.4f}')\n",
    "    # Display epoch accuracies as percentages (personal preference)\n",
    "    # print(f'Epoch {epoch+1}/{epochs}, Train Loss: {1-(running_loss/len(train_loader))*100:.2f}, Val Loss: {(1-val_loss/len(val_loader))*100:.2f}')\n",
    "\n",
    "# Plot training loop results\n",
    "plt.plot(range(epochs), train_losses, 'b-', label='Training Loss')\n",
    "plt.plot(range(epochs), val_losses, 'r-', label='Validation Loss')\n",
    "plt.grid(True, linestyle='--', alpha=0.7)\n",
    "plt.title('Training and Validation Loss')\n",
    "plt.xlabel('Epochs')\n",
    "plt.ylabel('Loss')\n",
    "plt.legend()\n",
    "plt.show()"
   ]
  },
  {
   "cell_type": "code",
   "execution_count": null,
   "id": "fc45c008",
   "metadata": {},
   "outputs": [],
   "source": []
  }
 ],
 "metadata": {
  "kernelspec": {
   "display_name": "Python 3",
   "language": "python",
   "name": "python3"
  },
  "language_info": {
   "codemirror_mode": {
    "name": "ipython",
    "version": 3
   },
   "file_extension": ".py",
   "mimetype": "text/x-python",
   "name": "python",
   "nbconvert_exporter": "python",
   "pygments_lexer": "ipython3",
   "version": "3.9.13"
  }
 },
 "nbformat": 4,
 "nbformat_minor": 5
}
